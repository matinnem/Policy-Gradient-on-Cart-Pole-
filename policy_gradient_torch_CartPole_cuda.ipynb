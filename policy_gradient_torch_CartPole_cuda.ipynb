{
 "cells": [
  {
   "cell_type": "markdown",
   "metadata": {},
   "source": [
    "# policy gradient (REINFORCE) with PyTorch\n",
    "it is better for continuous envs"
   ]
  },
  {
   "cell_type": "code",
   "execution_count": null,
   "metadata": {
    "ExecuteTime": {
     "end_time": "2024-11-09T05:04:40.103254Z",
     "start_time": "2024-11-09T05:04:40.029183Z"
    }
   },
   "outputs": [
    {
     "name": "stderr",
     "output_type": "stream",
     "text": [
      "'rm' is not recognized as an internal or external command,\n",
      "operable program or batch file.\n"
     ]
    }
   ],
   "source": [
    "%reset -f\n",
    "!rm *"
   ]
  },
  {
   "cell_type": "code",
   "execution_count": null,
   "metadata": {
    "ExecuteTime": {
     "end_time": "2024-08-01T21:19:46.312038Z",
     "start_time": "2024-08-01T21:19:44.957660Z"
    }
   },
   "outputs": [],
   "source": [
    "# !pip list\n"
   ]
  },
  {
   "cell_type": "code",
   "execution_count": null,
   "metadata": {
    "ExecuteTime": {
     "end_time": "2024-11-09T05:04:48.739138Z",
     "start_time": "2024-11-09T05:04:45.438776Z"
    }
   },
   "outputs": [],
   "source": [
    "import gym\n",
    "import numpy as np\n",
    "import torch\n",
    "import torch.nn as nn\n",
    "import torch.optim as optim"
   ]
  },
  {
   "cell_type": "code",
   "execution_count": null,
   "metadata": {},
   "outputs": [
    {
     "name": "stdout",
     "output_type": "stream",
     "text": [
      "2.5.1+cu118\n"
     ]
    }
   ],
   "source": [
    "print(torch.__version__)"
   ]
  },
  {
   "cell_type": "code",
   "execution_count": null,
   "metadata": {
    "ExecuteTime": {
     "end_time": "2024-11-09T05:04:58.425702Z",
     "start_time": "2024-11-09T05:04:57.374691Z"
    }
   },
   "outputs": [
    {
     "name": "stdout",
     "output_type": "stream",
     "text": [
      "True\n",
      "0\n",
      "NVIDIA GeForce MX450\n"
     ]
    }
   ],
   "source": [
    "\n",
    "print(torch.cuda.is_available())  # Should return True if CUDA is available\n",
    "print(torch.cuda.current_device())  # Should return the current device index\n",
    "print(torch.cuda.get_device_name(0))  # Should return the name of your GPU\n"
   ]
  },
  {
   "cell_type": "code",
   "execution_count": null,
   "metadata": {
    "ExecuteTime": {
     "end_time": "2024-11-09T05:05:06.433304Z",
     "start_time": "2024-11-09T05:05:06.418174Z"
    }
   },
   "outputs": [
    {
     "name": "stderr",
     "output_type": "stream",
     "text": [
      "c:\\Users\\Lenovo\\AppData\\Local\\Programs\\Python\\Python312\\Lib\\site-packages\\gym\\envs\\registration.py:555: UserWarning: \u001b[33mWARN: The environment CartPole-v0 is out of date. You should consider upgrading to version `v1`.\u001b[0m\n",
      "  logger.warn(\n"
     ]
    }
   ],
   "source": [
    "env = gym.make('CartPole-v0', render_mode='rgb_array')"
   ]
  },
  {
   "cell_type": "code",
   "execution_count": null,
   "metadata": {
    "ExecuteTime": {
     "end_time": "2024-11-09T05:05:10.371451Z",
     "start_time": "2024-11-09T05:05:10.359791Z"
    }
   },
   "outputs": [
    {
     "name": "stderr",
     "output_type": "stream",
     "text": [
      "C:\\Users\\Lenovo\\AppData\\Local\\Programs\\Python\\Python312\\Lib\\site-packages\\gym\\utils\\passive_env_checker.py:233: DeprecationWarning: `np.bool8` is a deprecated alias for `np.bool_`.  (Deprecated NumPy 1.24)\n",
      "  if not isinstance(terminated, (bool, np.bool8)):\n"
     ]
    }
   ],
   "source": [
    "# state1 = env.reset()[0]\n",
    "# action1 = env.action_space.sample()\n",
    "# newState, reward, done, info, _ = env.step(action1)\n",
    "\n",
    "# print(state1, '\\n', action1, '\\n', newState, reward, done, info,_)"
   ]
  },
  {
   "cell_type": "code",
   "execution_count": null,
   "metadata": {
    "vscode": {
     "languageId": "powershell"
    }
   },
   "outputs": [],
   "source": [
    "# import torch.nn.functional as F\n",
    "\n",
    "# class Model(nn.Module):\n",
    "#     def __init__(self, input,hidden_layer1_dim, hidden_layer2_dim, outp_layer_dim):\n",
    "#         super().__init__()\n",
    "#         self.fc1 = nn.Linear(input, hidden_layer1_dim)\n",
    "#         self.fc2 = nn.Linear(hidden_layer1_dim, hidden_layer2_dim)\n",
    "#         self.out = nn.Linear(hidden_layer2_dim, outp_layer_dim)\n",
    "        \n",
    "#     def forward(self, x):\n",
    "#         x = F.relu(self.fc1(x))\n",
    "#         x = F.relu(self.fc2(x))\n",
    "#         x = F.softmax(self.out(x))\n",
    "#         return x\n",
    "    \n",
    "    \n",
    "# inp_layer_dim = env.observation_space.shape[0]\n",
    "# hidden_layer1_dim = 150\n",
    "# hidden_layer2_dim = 150\n",
    "# outp_layer_dim = env.action_space.n\n",
    "\n",
    "# model = Model(inp_layer_dim, hidden_layer1_dim, hidden_layer2_dim, outp_layer_dim).cuda()\n",
    "\n",
    "# '''defining adam optimizer'''\n",
    "# learning_rate = 0.0001\n",
    "# optimizer = torch.optim.Adam(model.parameters(), lr=learning_rate)\n",
    "\n",
    "# def discounted_rewards(rewards, gamma=0.99):\n",
    "#     rewards_len = len(rewards)\n",
    "    \n",
    "#     '''Computes exponentially decaying rewards'''\n",
    "#     discounted_reward = torch.pow(gamma, torch.arange(rewards_len).float())\n",
    "    \n",
    "#     '''Normalizes the rewards to be within the [0,1] interval to improve numerical stability'''\n",
    "#     discounted_reward /= discounted_reward.max()\n",
    "#     return discounted_reward\n",
    "\n",
    "# '''back propagation'''\n",
    "# def loss_function(predictions, r):\n",
    "#     return -torch.sum(r * torch.log(predictions))\n",
    "\n"
   ]
  },
  {
   "cell_type": "code",
   "execution_count": null,
   "metadata": {
    "ExecuteTime": {
     "end_time": "2024-11-09T05:05:21.787369Z",
     "start_time": "2024-11-09T05:05:19.568052Z"
    }
   },
   "outputs": [],
   "source": [
    "'''setting up the policy network'''\n",
    "\n",
    "inp_layer_dim = env.observation_space.shape[0]\n",
    "hidden_layer1_dim = 150\n",
    "hidden_layer2_dim = 150\n",
    "outp_layer_dim = env.action_space.n\n",
    "\n",
    "'''policy network'''\n",
    "model = torch.nn.Sequential(\n",
    "    torch.nn.Linear(inp_layer_dim, hidden_layer1_dim),\n",
    "    torch.nn.ReLU(),\n",
    "    torch.nn.Linear(hidden_layer1_dim, hidden_layer2_dim),\n",
    "    torch.nn.ReLU(),\n",
    "    torch.nn.Linear(hidden_layer2_dim ,outp_layer_dim),\n",
    "    torch.nn.Softmax()\n",
    ").cuda()\n",
    "\n",
    "\n",
    "'''defining adam optimizer'''\n",
    "learning_rate = 0.0001\n",
    "optimizer = torch.optim.Adam(model.parameters(), lr=learning_rate)\n",
    "\n",
    "\n",
    "'''computing the discounted rewards'''\n",
    "def discounted_rewards(rewards, gamma=0.99):\n",
    "    rewards_len = len(rewards)\n",
    "    \n",
    "    '''Computes exponentially decaying rewards'''\n",
    "    discounted_reward = torch.pow(gamma, torch.arange(rewards_len).float())\n",
    "    \n",
    "    '''Normalizes the rewards to be within the [0,1] interval to improve numerical stability'''\n",
    "    discounted_reward /= discounted_reward.max()\n",
    "    return discounted_reward\n",
    "\n",
    "\n",
    "'''back propagation'''\n",
    "def loss_function(predictions, r):\n",
    "    return -torch.sum(r * torch.log(predictions))"
   ]
  },
  {
   "cell_type": "code",
   "execution_count": null,
   "metadata": {
    "ExecuteTime": {
     "end_time": "2024-11-09T05:07:12.176418Z",
     "start_time": "2024-11-09T05:05:31.848431Z"
    }
   },
   "outputs": [
    {
     "name": "stderr",
     "output_type": "stream",
     "text": [
      "c:\\Users\\Lenovo\\AppData\\Local\\Programs\\Python\\Python312\\Lib\\site-packages\\torch\\nn\\modules\\module.py:1736: UserWarning: Implicit dimension choice for softmax has been deprecated. Change the call to include dim=X as an argument.\n",
      "  return self._call_impl(*args, **kwargs)\n",
      "c:\\Users\\Lenovo\\AppData\\Local\\Programs\\Python\\Python312\\Lib\\site-packages\\gym\\utils\\passive_env_checker.py:233: DeprecationWarning: `np.bool8` is a deprecated alias for `np.bool_`.  (Deprecated NumPy 1.24)\n",
      "  if not isinstance(terminated, (bool, np.bool8)):\n"
     ]
    },
    {
     "ename": "KeyboardInterrupt",
     "evalue": "",
     "output_type": "error",
     "traceback": [
      "\u001b[1;31m---------------------------------------------------------------------------\u001b[0m",
      "\u001b[1;31mKeyboardInterrupt\u001b[0m                         Traceback (most recent call last)",
      "Cell \u001b[1;32mIn[20], line 54\u001b[0m\n\u001b[0;32m     51\u001b[0m scores\u001b[38;5;241m.\u001b[39mappend(episode_length)\n\u001b[0;32m     53\u001b[0m \u001b[38;5;250m\u001b[39m\u001b[38;5;124;03m'''Collects all the rewards in the episode in a single tensor'''\u001b[39;00m\n\u001b[1;32m---> 54\u001b[0m reward_batch \u001b[38;5;241m=\u001b[39m \u001b[43mtorch\u001b[49m\u001b[38;5;241;43m.\u001b[39;49m\u001b[43mTensor\u001b[49m\u001b[43m(\u001b[49m\u001b[43m[\u001b[49m\u001b[43mr\u001b[49m\u001b[43m \u001b[49m\u001b[38;5;28;43;01mfor\u001b[39;49;00m\u001b[43m \u001b[49m\u001b[43m(\u001b[49m\u001b[43ms\u001b[49m\u001b[43m,\u001b[49m\u001b[43m \u001b[49m\u001b[43ma\u001b[49m\u001b[43m,\u001b[49m\u001b[43m \u001b[49m\u001b[43mr\u001b[49m\u001b[43m)\u001b[49m\u001b[43m \u001b[49m\u001b[38;5;129;43;01min\u001b[39;49;00m\u001b[43m \u001b[49m\u001b[43mtransitions\u001b[49m\u001b[43m]\u001b[49m\u001b[43m)\u001b[49m\u001b[38;5;241;43m.\u001b[39;49m\u001b[43mflip\u001b[49m\u001b[43m(\u001b[49m\u001b[43mdims\u001b[49m\u001b[38;5;241;43m=\u001b[39;49m\u001b[43m(\u001b[49m\u001b[38;5;241;43m0\u001b[39;49m\u001b[43m,\u001b[49m\u001b[43m)\u001b[49m\u001b[43m)\u001b[49m \u001b[38;5;66;03m### torch.flip(dim) reorders the array from end to start\u001b[39;00m\n\u001b[0;32m     56\u001b[0m \u001b[38;5;250m\u001b[39m\u001b[38;5;124;03m'''Computes the discounted version of the rewards'''\u001b[39;00m\n\u001b[0;32m     57\u001b[0m disc_rewards \u001b[38;5;241m=\u001b[39m discounted_rewards(reward_batch)\n",
      "\u001b[1;31mKeyboardInterrupt\u001b[0m: "
     ]
    }
   ],
   "source": [
    "'''The REINFORCE training loop'''\n",
    "max_DUR = 200\n",
    "max_Episodes = 2300\n",
    "gamma = 0.99 \n",
    "'''A list to keep track of the episode length over training time'''\n",
    "scores = []\n",
    "set_of_ep_lens = []\n",
    "weight_change_observation1 = []\n",
    "weight_change_observation2 = []\n",
    "for episode in range(max_Episodes):\n",
    "    current_state = torch.from_numpy(env.reset()[0]).float().cuda()\n",
    "    # print(current_state)\n",
    "    done = False\n",
    "    \n",
    "    '''A list of state, action, rewards (but we ignore the reward)'''\n",
    "    transitions = []\n",
    "    \n",
    "    '''while in the Episode'''\n",
    "    for t in range(max_DUR):\n",
    "        \n",
    "        '''get the action probability'''\n",
    "        # action_prob = model(torch.from_numpy(current_state).float())\n",
    "        action_prob = model(current_state)\n",
    "        \n",
    "        '''Selects an action stochastically'''\n",
    "        action = np.random.choice(np.array([0,1]), p= action_prob.cpu().data.numpy())\n",
    "        # action = torch.Tensor(np.array(action)).cuda()\n",
    "        # print(type(action))\n",
    "        \n",
    "        previous_state = current_state\n",
    "        \n",
    "        '''taking the action in the environment'''\n",
    "        current_state, reward, done, info, _ = env.step(action)\n",
    "        current_state = torch.from_numpy(current_state).float().cuda()\n",
    "        # print(current_state)\n",
    "        \n",
    "        '''storing the transitions'''\n",
    "        transitions.append((previous_state.cpu().data.numpy(), action, t + 1))\n",
    "        # print(transitions)\n",
    "        # transitions = torch.from_numpy(np.array(transitions)).cuda()\n",
    "        \n",
    "     \n",
    "        '''If the game is lost, breaks out of the loop'''    \n",
    "        if done:\n",
    "            break\n",
    "        \n",
    "        '''storing the episode lenght'''\n",
    "        episode_length = len(transitions)\n",
    "        \n",
    "        \n",
    "        scores.append(episode_length)\n",
    "        \n",
    "        '''Collects all the rewards in the episode in a single tensor'''\n",
    "        reward_batch = torch.Tensor([r for (s, a, r) in transitions]).flip(dims=(0,)) ### torch.flip(dim) reorders the array from end to start\n",
    "        \n",
    "        '''Computes the discounted version of the rewards'''\n",
    "        disc_rewards = discounted_rewards(reward_batch)\n",
    "        \n",
    "        '''collecting the states in the episode in a single tensor'''\n",
    "        state_batch = torch.Tensor(np.array([s for (s,a,r) in transitions]))\n",
    "        \n",
    "        '''collecting the actions in the episode in a single tensor'''\n",
    "        action_batch = torch.Tensor(np.array([a for (s,a,r) in transitions]))\n",
    "        \n",
    "        '''recomputing the action probabilities for all the states in the episode'''\n",
    "        pred_batch = model(state_batch.cuda())\n",
    "        \n",
    "        '''Subsets the action-probabilities associated with the actions that were actually taken'''\n",
    "        prob_batch = pred_batch.gather(dim=1,index=action_batch.cuda().long().view(-1,1)).squeeze()  ##### .view() or .reshape() use for reshaping the tensors. torch.Tensor.long() brings elements from 32 to 64\n",
    "        #### tensor.gather( dim, index, *, sparse_grad=False, out=None) gathers values along an axis specified by dim\n",
    "        loss = loss_function(prob_batch, disc_rewards.cuda())\n",
    "        \n",
    "        optimizer.zero_grad()   ##### .zero_grad() Resets the gradients of all optimized torch\n",
    "        loss.backward()\n",
    "        optimizer.step()\n",
    "        weight_change_observation1.append(list(model.parameters())[0][0][0])\n",
    "    weight_change_observation2.append(list(model.parameters())[0][0][0])\n",
    "    set_of_ep_lens.append(episode_length)"
   ]
  },
  {
   "cell_type": "code",
   "execution_count": null,
   "metadata": {
    "ExecuteTime": {
     "end_time": "2024-08-24T08:31:58.087616Z",
     "start_time": "2024-08-24T08:31:58.001914Z"
    }
   },
   "outputs": [],
   "source": [
    "# '''The REINFORCE training loop'''\n",
    "# max_DUR = 200\n",
    "# max_Episodes = 3000\n",
    "# gamma = 0.99 \n",
    "# '''A list to keep track of the episode length over training time'''\n",
    "# scores = []\n",
    "# set_of_ep_lens = []\n",
    "# weight_change_observation1 = []\n",
    "# weight_change_observation2 = []\n",
    "# for episode in range(max_Episodes):\n",
    "#     current_state = torch.from_numpy(env.reset()[0]).float()\n",
    "#     done = False\n",
    "    \n",
    "#     '''A list of state, action, rewards (but we ignore the reward)'''\n",
    "#     transitions = []\n",
    "    \n",
    "#     '''while in the Episode'''\n",
    "#     for t in range(max_DUR):\n",
    "        \n",
    "#         '''get the action probability'''\n",
    "#         # action_prob = model(torch.from_numpy(current_state).float())\n",
    "#         action_prob = model(current_state)\n",
    "        \n",
    "#         '''Selects an action stochastically'''\n",
    "#         action = np.random.choice(np.array([0,1]), p= action_prob.cpu().data.numpy())\n",
    "        \n",
    "#         previous_state = current_state\n",
    "        \n",
    "#         '''taking the action in the environment'''\n",
    "#         current_state, reward, done, info, _ = env.step(action)\n",
    "        \n",
    "#         '''storing the transitions'''\n",
    "#         transitions.append((previous_state, action, t + 1))\n",
    "        \n",
    "     \n",
    "#         '''If the game is lost, breaks out of the loop'''    \n",
    "#         if done:\n",
    "#             break\n",
    "        \n",
    "#         '''storing the episode lenght'''\n",
    "#         episode_length = len(transitions)\n",
    "        \n",
    "        \n",
    "#         scores.append(episode_length)\n",
    "        \n",
    "#         '''Collects all the rewards in the episode in a single tensor'''\n",
    "#         reward_batch = torch.Tensor([r for (s, a, r) in transitions]).flip(dims=(0,)) ### torch.flip(dim) reorders the array from end to start\n",
    "        \n",
    "#         '''Computes the discounted version of the rewards'''\n",
    "#         disc_rewards = discounted_rewards(reward_batch)\n",
    "        \n",
    "#         '''collecting the states in the episode in a single tensor'''\n",
    "#         state_batch = torch.Tensor(np.array([s for (s,a,r) in transitions]))\n",
    "        \n",
    "#         '''collecting the actions in the episode in a single tensor'''\n",
    "#         action_batch = torch.Tensor(np.array([a for (s,a,r) in transitions]))\n",
    "        \n",
    "#         '''recomputing the action probabilities for all the states in the episode'''\n",
    "#         pred_batch = model(state_batch)\n",
    "        \n",
    "#         '''Subsets the action-probabilities associated with the actions that were actually taken'''\n",
    "#         prob_batch = pred_batch.gather(dim=1,index=action_batch.long().view(-1,1)).squeeze()  ##### .view() or .reshape() use for reshaping the tensors. torch.Tensor.long() brings elements from 32 to 64\n",
    "#         #### tensor.gather( dim, index, *, sparse_grad=False, out=None) gathers values along an axis specified by dim\n",
    "#         loss = loss_function(prob_batch, disc_rewards)\n",
    "        \n",
    "#         optimizer.zero_grad()   ##### .zero_grad() Resets the gradients of all optimized torch\n",
    "#         loss.backward()\n",
    "#         optimizer.step()\n",
    "#         weight_change_observation1.append(list(model.parameters())[0][0][0])\n",
    "#     weight_change_observation2.append(list(model.parameters())[0][0][0])\n",
    "#     set_of_ep_lens.append(episode_length)"
   ]
  },
  {
   "cell_type": "code",
   "execution_count": null,
   "metadata": {
    "ExecuteTime": {
     "end_time": "2024-08-24T08:30:57.814991Z",
     "start_time": "2024-08-24T08:30:56.668596Z"
    }
   },
   "outputs": [
    {
     "name": "stdout",
     "output_type": "stream",
     "text": [
      "maximum length of a episode: 200\n",
      "number of episodes: 1500\n",
      "length of last episode: 148\n"
     ]
    }
   ],
   "source": [
    "# weights = list(model.parameters())\n",
    "# print(f\"weights1: {weight_change_observation1}\\n\")\n",
    "# print(f\"weights2: {weight_change_observation2}\\n\")\n",
    "print(f\"maximum length of a episode: {max(set_of_ep_lens)}\")\n",
    "print(f\"number of episodes: {len(set_of_ep_lens)}\")\n",
    "# print(prob_batch.shape)\n",
    "print(f\"length of last episode: {set_of_ep_lens[max_Episodes-1]}\")"
   ]
  },
  {
   "cell_type": "code",
   "execution_count": null,
   "metadata": {
    "ExecuteTime": {
     "end_time": "2024-08-06T08:27:00.082930Z",
     "start_time": "2024-08-06T08:26:58.850617Z"
    }
   },
   "outputs": [
    {
     "data": {
      "text/plain": [
       "<function matplotlib.pyplot.show(close=None, block=None)>"
      ]
     },
     "execution_count": 39,
     "metadata": {},
     "output_type": "execute_result"
    },
    {
     "data": {
      "image/png": "[encoded data removed]",
      "text/plain": [
       "<Figure size 1100x600 with 1 Axes>"
      ]
     },
     "metadata": {},
     "output_type": "display_data"
    }
   ],
   "source": [
    "import matplotlib.pyplot as plt\n",
    "from scipy.ndimage import gaussian_filter1d  ## for smoothing\n",
    "%matplotlib inline\n",
    "\n",
    "# ysmoothed = gaussian_filter1d(y, sigma=2)\n",
    "# plt.plot(x, ysmoothed)\n",
    "# plt.show()\n",
    "x = range(len(set_of_ep_lens))\n",
    "y = set_of_ep_lens\n",
    "y_smoothed = gaussian_filter1d(y, sigma=4)\n",
    "y_smoothed_high = gaussian_filter1d(y, sigma=20)\n",
    "plt.figure(figsize=(11,6))\n",
    "plt.plot(x, y, '.')\n",
    "plt.plot(x, y_smoothed, 'k')\n",
    "plt.plot(x, y_smoothed_high, 'r')\n",
    "\n",
    "plt.show\n",
    "# plt.ylabel(set_of_ep_lens)\n",
    "# plt.plot"
   ]
  },
  {
   "cell_type": "code",
   "execution_count": null,
   "metadata": {
    "ExecuteTime": {
     "end_time": "2024-07-01T11:45:23.881405Z",
     "start_time": "2024-07-01T11:45:23.862718Z"
    }
   },
   "outputs": [
    {
     "name": "stdout",
     "output_type": "stream",
     "text": [
      "[-0.01615289  0.034036   -0.01844477 -0.04161617] \n",
      " tensor([1., 0.], grad_fn=<SoftmaxBackward0>) \n",
      " 0 \n",
      " [-0.01547217 -0.16081667 -0.01927709  0.24519067] 1.0 False False {}\n"
     ]
    }
   ],
   "source": [
    "'''Testing model'''\n",
    "# Using the policy network to sample an action\n",
    "testing_state = env.reset()[0]\n",
    "output_prob = model(torch.from_numpy(testing_state).float())\n",
    "nn_action = np.random.choice(np.array([0,1]), p = output_prob.data.numpy()) ### .data gives the numbers of pred and removes other strings like Tensor\n",
    "state_new, reward, done, info, dic = env.step(nn_action)\n",
    "\n",
    "print(testing_state, '\\n',output_prob, '\\n', nn_action, '\\n', state_new, reward, done, info, dic)"
   ]
  },
  {
   "cell_type": "code",
   "execution_count": null,
   "metadata": {
    "ExecuteTime": {
     "end_time": "2024-07-01T11:46:25.551647Z",
     "start_time": "2024-07-01T11:46:25.508386Z"
    }
   },
   "outputs": [],
   "source": [
    "# '''Saving'''\n",
    "# torch.save(model.state_dict(), 'Reinforce_model_torch_nn_200_times_3500_episodes.pt')"
   ]
  }
 ],
 "metadata": {
  "kernelspec": {
   "display_name": "Python 3",
   "language": "python",
   "name": "python3"
  },
  "language_info": {
   "codemirror_mode": {
    "name": "ipython",
    "version": 3
   },
   "file_extension": ".py",
   "mimetype": "text/x-python",
   "name": "python",
   "nbconvert_exporter": "python",
   "pygments_lexer": "ipython3",
   "version": "3.12.4"
  }
 },
 "nbformat": 4,
 "nbformat_minor": 2
}
